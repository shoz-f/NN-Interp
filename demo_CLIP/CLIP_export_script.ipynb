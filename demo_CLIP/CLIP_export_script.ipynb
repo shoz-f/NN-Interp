{
  "nbformat": 4,
  "nbformat_minor": 0,
  "metadata": {
    "colab": {
      "provenance": []
    },
    "kernelspec": {
      "name": "python3",
      "display_name": "Python 3"
    },
    "language_info": {
      "name": "python"
    }
  },
  "cells": [
    {
      "cell_type": "code",
      "execution_count": null,
      "metadata": {
        "id": "v94f7LxbJgdB",
        "collapsed": true
      },
      "outputs": [],
      "source": [
        "!pip install ftfy\n",
        "!git clone https://github.com/openai/CLIP.git\n",
        "%cd /content/CLIP"
      ]
    },
    {
      "cell_type": "code",
      "source": [
        "import torch\n",
        "import clip\n",
        "from PIL import Image\n",
        "\n",
        "class TextTransformer(torch.nn.Module):\n",
        "  def __init__(self, clip_model):\n",
        "    super().__init__()\n",
        "    self.clip_model = clip_model\n",
        "\n",
        "  def forward(self, x: torch.Tensor):\n",
        "    return self.clip_model.encode_text(x)\n",
        "\n",
        "\n",
        "device = \"cuda\" if torch.cuda.is_available() else \"cpu\"\n",
        "model, preprocess = clip.load(\"ViT-B/32\", device=device)\n",
        "\n",
        "image = preprocess(Image.open(\"CLIP.png\")).unsqueeze(0).to(device)\n",
        "text = clip.tokenize(\"a cat\").to(device)\n",
        "\n",
        "with torch.no_grad():\n",
        "  image_feature = model.encode_image(image)\n",
        "  text_feature = model.encode_text(text)\n",
        "\n",
        "  logits_per_image, logits_per_text = model(image, text)\n",
        "  probs = logits_per_image.softmax(dim=-1).cpu().numpy()\n",
        "\n",
        "print(\"Label probs:\", probs)"
      ],
      "metadata": {
        "id": "pPzc4hYeKDtO"
      },
      "execution_count": null,
      "outputs": []
    },
    {
      "cell_type": "code",
      "source": [
        "clip_visual_opt = torch.jit.optimize_for_inference(torch.jit.trace(model.visual, image))\n",
        "clip_visual_opt.save(\"/content/clip_visual.pt\")"
      ],
      "metadata": {
        "id": "Cc4j5N9Gum5t"
      },
      "execution_count": null,
      "outputs": []
    },
    {
      "cell_type": "code",
      "source": [
        "text_transformer = TextTransformer(model)\n",
        "clip_text_opt = torch.jit.optimize_for_inference(torch.jit.trace(text_transformer, text))\n",
        "clip_text_opt.save(\"/content/clip_text.pt\")"
      ],
      "metadata": {
        "id": "JIv6mvXwxNB5"
      },
      "execution_count": null,
      "outputs": []
    }
  ]
}