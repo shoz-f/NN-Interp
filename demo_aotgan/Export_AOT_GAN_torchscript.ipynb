{
  "nbformat": 4,
  "nbformat_minor": 0,
  "metadata": {
    "colab": {
      "provenance": []
    },
    "kernelspec": {
      "name": "python3",
      "display_name": "Python 3"
    },
    "language_info": {
      "name": "python"
    }
  },
  "cells": [
    {
      "cell_type": "code",
      "execution_count": 3,
      "metadata": {
        "colab": {
          "base_uri": "https://localhost:8080/"
        },
        "id": "Gxg7Owb6NNU_",
        "outputId": "55e61842-a67d-454a-ef1e-9cc3f1b4a46a"
      },
      "outputs": [
        {
          "output_type": "stream",
          "name": "stdout",
          "text": [
            "Cloning into 'AOT-GAN-for-Inpainting'...\n",
            "remote: Enumerating objects: 59, done.\u001b[K\n",
            "remote: Counting objects: 100% (59/59), done.\u001b[K\n",
            "remote: Compressing objects: 100% (52/52), done.\u001b[K\n",
            "remote: Total 59 (delta 0), reused 50 (delta 0), pack-reused 0\u001b[K\n",
            "Unpacking objects: 100% (59/59), 25.37 MiB | 11.46 MiB/s, done.\n",
            "/content/AOT-GAN-for-Inpainting\n"
          ]
        }
      ],
      "source": [
        "## download project\n",
        "!git clone --depth=1 https://github.com/researchmm/AOT-GAN-for-Inpainting\n",
        "%cd /content/AOT-GAN-for-Inpainting/"
      ]
    },
    {
      "cell_type": "code",
      "source": [
        "## download pre-traind parameters\n",
        "\n",
        "!cd experiments && gdown  https://drive.google.com/uc?id=1T7Xkv09pvf6gy-R2Cn0RN5V-Pq0vSFPw"
      ],
      "metadata": {
        "colab": {
          "base_uri": "https://localhost:8080/"
        },
        "id": "8OVPGcNUNnDL",
        "outputId": "53ed7d5b-6133-4e6a-d6ec-7c8751b290ce"
      },
      "execution_count": 6,
      "outputs": [
        {
          "output_type": "stream",
          "name": "stdout",
          "text": [
            "Downloading...\n",
            "From: https://drive.google.com/uc?id=1T7Xkv09pvf6gy-R2Cn0RN5V-Pq0vSFPw\n",
            "To: /content/AOT-GAN-for-Inpainting/experiments/G0000000.pt\n",
            "100% 60.8M/60.8M [00:00<00:00, 154MB/s]\n"
          ]
        }
      ]
    },
    {
      "cell_type": "code",
      "source": [
        "## convert the model to torchscript\n",
        "\n",
        "from ast import In\n",
        "import torch\n",
        "from src.model.aotgan import InpaintGenerator\n",
        "\n",
        "class Args:\n",
        "  def __init__(self, pre_train='experiments/G0000000.pt', rates=[1,2,4,8], block_num=8):\n",
        "    self.pre_train = pre_train\n",
        "    self.rates = rates\n",
        "    self.block_num = block_num\n",
        "\n",
        "args  = Args()\n",
        "model = InpaintGenerator(args)\n",
        "model.load_state_dict(torch.load(args.pre_train, map_location='cpu'))\n",
        "model.eval()\n",
        "\n",
        "dummy_masked_image = torch.rand(1,3,512,512)*2.0 - 1.0\n",
        "dummy_mask         = torch.rand(1,1,512,512)\n",
        "traced_model = torch.jit.trace(model, [dummy_masked_image, dummy_mask])\n",
        "torch.jit.save(traced_model, 'aot_gan.pt')"
      ],
      "metadata": {
        "id": "TOioWY-SOSBf"
      },
      "execution_count": 21,
      "outputs": []
    },
    {
      "cell_type": "code",
      "source": [
        "## download the converted model - torchscript\n",
        "\n",
        "from google.colab import files\n",
        "files.download('aot_gan.pt')"
      ],
      "metadata": {
        "colab": {
          "base_uri": "https://localhost:8080/",
          "height": 17
        },
        "id": "rUct6QZyj4OW",
        "outputId": "158c9163-4b00-470d-a906-ee125ef07f5e"
      },
      "execution_count": 22,
      "outputs": [
        {
          "output_type": "display_data",
          "data": {
            "text/plain": [
              "<IPython.core.display.Javascript object>"
            ],
            "application/javascript": [
              "\n",
              "    async function download(id, filename, size) {\n",
              "      if (!google.colab.kernel.accessAllowed) {\n",
              "        return;\n",
              "      }\n",
              "      const div = document.createElement('div');\n",
              "      const label = document.createElement('label');\n",
              "      label.textContent = `Downloading \"${filename}\": `;\n",
              "      div.appendChild(label);\n",
              "      const progress = document.createElement('progress');\n",
              "      progress.max = size;\n",
              "      div.appendChild(progress);\n",
              "      document.body.appendChild(div);\n",
              "\n",
              "      const buffers = [];\n",
              "      let downloaded = 0;\n",
              "\n",
              "      const channel = await google.colab.kernel.comms.open(id);\n",
              "      // Send a message to notify the kernel that we're ready.\n",
              "      channel.send({})\n",
              "\n",
              "      for await (const message of channel.messages) {\n",
              "        // Send a message to notify the kernel that we're ready.\n",
              "        channel.send({})\n",
              "        if (message.buffers) {\n",
              "          for (const buffer of message.buffers) {\n",
              "            buffers.push(buffer);\n",
              "            downloaded += buffer.byteLength;\n",
              "            progress.value = downloaded;\n",
              "          }\n",
              "        }\n",
              "      }\n",
              "      const blob = new Blob(buffers, {type: 'application/binary'});\n",
              "      const a = document.createElement('a');\n",
              "      a.href = window.URL.createObjectURL(blob);\n",
              "      a.download = filename;\n",
              "      div.appendChild(a);\n",
              "      a.click();\n",
              "      div.remove();\n",
              "    }\n",
              "  "
            ]
          },
          "metadata": {}
        },
        {
          "output_type": "display_data",
          "data": {
            "text/plain": [
              "<IPython.core.display.Javascript object>"
            ],
            "application/javascript": [
              "download(\"download_09004678-c80d-43ec-957a-4af9e44d9973\", \"aot_gan.pt\", 61188099)"
            ]
          },
          "metadata": {}
        }
      ]
    }
  ]
}